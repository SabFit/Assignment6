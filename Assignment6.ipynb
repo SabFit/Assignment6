{
 "cells": [
  {
   "cell_type": "markdown",
   "id": "af1115df-8c04-49aa-8a50-be1ff1aea660",
   "metadata": {},
   "source": [
    "1. What are escape characters, and how do you use them?"
   ]
  },
  {
   "cell_type": "markdown",
   "id": "e6e98eb6-d56b-4ea1-a5a0-dada150e44a4",
   "metadata": {},
   "source": [
    "Ans In python backlash\" \\ \"is called the escape characters . It is used in representing newline \"\\n\" , \"\\t\" is a tab "
   ]
  },
  {
   "cell_type": "markdown",
   "id": "f79c714f-3a10-4ea3-aa89-8db3a1def246",
   "metadata": {},
   "source": [
    "2. What do the escape characters n and t stand for?"
   ]
  },
  {
   "cell_type": "markdown",
   "id": "ffb789ec-b3dc-4a78-b185-b968215ba733",
   "metadata": {},
   "source": [
    "Ans .n stands(\"\\n\") for newline , t stands (\"t\\\") for tab"
   ]
  },
  {
   "cell_type": "markdown",
   "id": "3a947cd1-5405-4c11-ab6c-2ed0c397e878",
   "metadata": {},
   "source": [
    "3. What is the way to include backslash characters in a string?"
   ]
  },
  {
   "cell_type": "code",
   "execution_count": 1,
   "id": "b35d198e-ea82-4d18-b81a-c0e6dc589682",
   "metadata": {},
   "outputs": [
    {
     "name": "stdout",
     "output_type": "stream",
     "text": [
      " include backlash \\ in a string\n"
     ]
    }
   ],
   "source": [
    "print(\" include backlash \\ in a string\")"
   ]
  },
  {
   "cell_type": "markdown",
   "id": "dba691eb-af8c-4bd2-a229-b9cb4b209325",
   "metadata": {},
   "source": [
    "4. The string \"Howl's Moving Castle\" is a correct value. Why isn't the single quote character in the word Howl's not escaped a problem?"
   ]
  },
  {
   "cell_type": "markdown",
   "id": "9df02ec2-b755-4bc4-ad36-61d4e538bef2",
   "metadata": {},
   "source": [
    "Ans .\"Howl's Moving Castle\" used double quotes to mark the beginning and end of the string. like wise we can use double quotes in with single quotes"
   ]
  },
  {
   "cell_type": "markdown",
   "id": "38b0fbf5-1d6f-4523-9e31-640a3ed5f408",
   "metadata": {},
   "source": [
    "5. How do you write a string of newlines if you don't want to use the n character?"
   ]
  },
  {
   "cell_type": "code",
   "execution_count": 2,
   "id": "b3df6354-e01d-4888-a186-d36e9ca462e0",
   "metadata": {},
   "outputs": [
    {
     "name": "stdout",
     "output_type": "stream",
     "text": [
      "newlines\n"
     ]
    }
   ],
   "source": [
    "print(\"newlines\")"
   ]
  },
  {
   "cell_type": "markdown",
   "id": "334c3672-3f55-4ad4-a492-07c95a77912e",
   "metadata": {},
   "source": [
    "6. What are the values of the given expressions?\n",
    "'Hello, world!'[1]\n",
    "'Hello, world!'[0:5]\n",
    "'Hello, world!'[:5]\n",
    "'Hello, world!'[3:]\n"
   ]
  },
  {
   "cell_type": "code",
   "execution_count": 3,
   "id": "6fbdf396-0e8c-4486-9990-492a571edff1",
   "metadata": {},
   "outputs": [
    {
     "data": {
      "text/plain": [
       "'e'"
      ]
     },
     "execution_count": 3,
     "metadata": {},
     "output_type": "execute_result"
    }
   ],
   "source": [
    "'Hello,World!'[1]"
   ]
  },
  {
   "cell_type": "code",
   "execution_count": 4,
   "id": "daa5e260-5a13-423a-977c-cb55bcbf1084",
   "metadata": {},
   "outputs": [
    {
     "data": {
      "text/plain": [
       "'Hello'"
      ]
     },
     "execution_count": 4,
     "metadata": {},
     "output_type": "execute_result"
    }
   ],
   "source": [
    "'Hello, world!'[0:5]"
   ]
  },
  {
   "cell_type": "code",
   "execution_count": 5,
   "id": "437ea30e-63a0-490e-8f80-959034587446",
   "metadata": {},
   "outputs": [
    {
     "data": {
      "text/plain": [
       "'Hello'"
      ]
     },
     "execution_count": 5,
     "metadata": {},
     "output_type": "execute_result"
    }
   ],
   "source": [
    "'Hello, world!'[:5]"
   ]
  },
  {
   "cell_type": "code",
   "execution_count": 6,
   "id": "d56f14b1-a546-42e9-bdff-400a9690df2f",
   "metadata": {},
   "outputs": [
    {
     "data": {
      "text/plain": [
       "'lo, world!'"
      ]
     },
     "execution_count": 6,
     "metadata": {},
     "output_type": "execute_result"
    }
   ],
   "source": [
    "'Hello, world!'[3:]"
   ]
  },
  {
   "cell_type": "markdown",
   "id": "fbced534-093d-4080-8a8e-428b509695d7",
   "metadata": {},
   "source": [
    "7. What are the values of the following expressions? 'Hello'.upper()\n",
    "'Hello'.upper().isupper()\n",
    "'Hello'.upper().lower()\n"
   ]
  },
  {
   "cell_type": "code",
   "execution_count": 7,
   "id": "f31175dc-26b2-4f0b-83fb-fb0d28ae1c60",
   "metadata": {},
   "outputs": [
    {
     "data": {
      "text/plain": [
       "'HELLO'"
      ]
     },
     "execution_count": 7,
     "metadata": {},
     "output_type": "execute_result"
    }
   ],
   "source": [
    "'Hello'.upper()"
   ]
  },
  {
   "cell_type": "code",
   "execution_count": 8,
   "id": "ffcac7d3-92aa-41d0-82a5-97eba4727480",
   "metadata": {},
   "outputs": [
    {
     "data": {
      "text/plain": [
       "True"
      ]
     },
     "execution_count": 8,
     "metadata": {},
     "output_type": "execute_result"
    }
   ],
   "source": [
    "'Hello'.upper().isupper()"
   ]
  },
  {
   "cell_type": "code",
   "execution_count": 9,
   "id": "cbbebc8f-2b1f-4e5d-aaa1-82ef9785adff",
   "metadata": {},
   "outputs": [
    {
     "data": {
      "text/plain": [
       "'hello'"
      ]
     },
     "execution_count": 9,
     "metadata": {},
     "output_type": "execute_result"
    }
   ],
   "source": [
    "'Hello'.upper().lower()"
   ]
  },
  {
   "cell_type": "markdown",
   "id": "8b2477ad-a6b1-4340-8f1f-f38a2ddf0167",
   "metadata": {},
   "source": [
    "8. What are the values of the following expressions?\n",
    "'Remember, remember, the fifth of July.'.split()\n",
    "'-'.join('There can only one.'.split())\n"
   ]
  },
  {
   "cell_type": "code",
   "execution_count": 10,
   "id": "37056bdb-097b-4bd8-a7b1-54da22c52241",
   "metadata": {},
   "outputs": [
    {
     "data": {
      "text/plain": [
       "['Remember,', 'remember,', 'the', 'fifth', 'of', 'July.']"
      ]
     },
     "execution_count": 10,
     "metadata": {},
     "output_type": "execute_result"
    }
   ],
   "source": [
    "'Remember, remember, the fifth of July.'.split()"
   ]
  },
  {
   "cell_type": "code",
   "execution_count": 11,
   "id": "e52ee519-2e46-4645-b220-6b0f88a7fd35",
   "metadata": {},
   "outputs": [
    {
     "data": {
      "text/plain": [
       "'There-can-only-one.'"
      ]
     },
     "execution_count": 11,
     "metadata": {},
     "output_type": "execute_result"
    }
   ],
   "source": [
    "'-'.join('There can only one.'.split())"
   ]
  },
  {
   "cell_type": "markdown",
   "id": "2ac8ab47-330e-45df-9a1e-f02d1f24c301",
   "metadata": {},
   "source": [
    "9. What are the methods for right-justifying, left-justifying, and centering a string?"
   ]
  },
  {
   "cell_type": "code",
   "execution_count": 12,
   "id": "19f5c930-3012-419e-b93b-1d930f6c9e0b",
   "metadata": {},
   "outputs": [
    {
     "data": {
      "text/plain": [
       "'Sabari####'"
      ]
     },
     "execution_count": 12,
     "metadata": {},
     "output_type": "execute_result"
    }
   ],
   "source": [
    " # left justified\n",
    "str =\"Sabari\"\n",
    "str.ljust(10,\"#\")"
   ]
  },
  {
   "cell_type": "code",
   "execution_count": 13,
   "id": "f9a5629f-e105-4c99-9ca1-d334722398b8",
   "metadata": {},
   "outputs": [
    {
     "data": {
      "text/plain": [
       "'$$$$$$$$$$$$$$$$$$$$$$$Ineuron'"
      ]
     },
     "execution_count": 13,
     "metadata": {},
     "output_type": "execute_result"
    }
   ],
   "source": [
    "#right justified\n",
    "str=\"Ineuron\"\n",
    "str.rjust(30,\"$\")"
   ]
  },
  {
   "cell_type": "code",
   "execution_count": 15,
   "id": "069a22e5-b301-479f-88d5-9d5c1495564f",
   "metadata": {},
   "outputs": [
    {
     "data": {
      "text/plain": [
       "'@@@@@@@ILOVECODING@@@@@@@'"
      ]
     },
     "execution_count": 15,
     "metadata": {},
     "output_type": "execute_result"
    }
   ],
   "source": [
    "#center justified\n",
    "str=\"ILOVECODING\"\n",
    "str.center(25,\"@\")"
   ]
  },
  {
   "cell_type": "markdown",
   "id": "948f8dee-e2ff-4f91-badf-351556f6038c",
   "metadata": {},
   "source": [
    "10. What is the best way to remove whitespace characters from the start or end?"
   ]
  },
  {
   "cell_type": "code",
   "execution_count": 16,
   "id": "07010474-0e36-455d-a7bb-b9efd7ba81fa",
   "metadata": {},
   "outputs": [
    {
     "data": {
      "text/plain": [
       "'My name is Sabari    '"
      ]
     },
     "execution_count": 16,
     "metadata": {},
     "output_type": "execute_result"
    }
   ],
   "source": [
    "str=\"      My name is Sabari    \"\n",
    "str.lstrip()"
   ]
  },
  {
   "cell_type": "code",
   "execution_count": 18,
   "id": "43d2fcf4-6a56-4fcf-bff9-028c8ee38220",
   "metadata": {},
   "outputs": [
    {
     "ename": "NameError",
     "evalue": "name 'Str' is not defined",
     "output_type": "error",
     "traceback": [
      "\u001b[0;31m---------------------------------------------------------------------------\u001b[0m",
      "\u001b[0;31mNameError\u001b[0m                                 Traceback (most recent call last)",
      "Cell \u001b[0;32mIn [18], line 1\u001b[0m\n\u001b[0;32m----> 1\u001b[0m \u001b[43mStr\u001b[49m\n",
      "\u001b[0;31mNameError\u001b[0m: name 'Str' is not defined"
     ]
    }
   ],
   "source": [
    "Str=\"       My name is sabri       "
   ]
  },
  {
   "cell_type": "code",
   "execution_count": null,
   "id": "f62ca9ca-3ab2-44e5-9bb1-2e78e5807e58",
   "metadata": {},
   "outputs": [],
   "source": []
  }
 ],
 "metadata": {
  "kernelspec": {
   "display_name": "Python 3 (ipykernel)",
   "language": "python",
   "name": "python3"
  },
  "language_info": {
   "codemirror_mode": {
    "name": "ipython",
    "version": 3
   },
   "file_extension": ".py",
   "mimetype": "text/x-python",
   "name": "python",
   "nbconvert_exporter": "python",
   "pygments_lexer": "ipython3",
   "version": "3.10.6"
  }
 },
 "nbformat": 4,
 "nbformat_minor": 5
}
